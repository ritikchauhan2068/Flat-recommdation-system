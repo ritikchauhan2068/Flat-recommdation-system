{
 "cells": [
  {
   "cell_type": "code",
   "execution_count": 3,
   "id": "db9fdd59",
   "metadata": {},
   "outputs": [
    {
     "name": "stdout",
     "output_type": "stream",
     "text": [
      "CSV file has been converted to PKL file and saved at df.pkl\n"
     ]
    }
   ],
   "source": [
    "import pandas as pd\n",
    "\n",
    "# Read the CSV file\n",
    "csv_file_path = 'data_viz1.csv'\n",
    "df = pd.read_csv(csv_file_path)\n",
    "\n",
    "# Save the DataFrame as a PKL file\n",
    "pkl_file_path = 'df.pkl'\n",
    "df.to_pickle(pkl_file_path)\n",
    "\n",
    "print(f\"CSV file has been converted to PKL file and saved at {pkl_file_path}\")\n"
   ]
  },
  {
   "cell_type": "code",
   "execution_count": null,
   "id": "79dc3302",
   "metadata": {},
   "outputs": [],
   "source": []
  }
 ],
 "metadata": {
  "kernelspec": {
   "display_name": "Python 3 (ipykernel)",
   "language": "python",
   "name": "python3"
  },
  "language_info": {
   "codemirror_mode": {
    "name": "ipython",
    "version": 3
   },
   "file_extension": ".py",
   "mimetype": "text/x-python",
   "name": "python",
   "nbconvert_exporter": "python",
   "pygments_lexer": "ipython3",
   "version": "3.9.13"
  }
 },
 "nbformat": 4,
 "nbformat_minor": 5
}
